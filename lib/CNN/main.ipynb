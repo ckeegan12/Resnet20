{
 "cells": [
  {
   "cell_type": "code",
   "execution_count": null,
   "id": "6c7c2801",
   "metadata": {},
   "outputs": [],
   "source": [
    "import pandas as pd\n",
    "import numpy as np \n",
    "import matplotlib.pyplot as plt\n",
    "import torch\n",
    "import torchvision\n",
    "import torch.nn as nn\n",
    "import torch.optim as optim\n",
    "import torch.nn.functional as F\n",
    "from torchvision import datasets, transforms\n",
    "from model import ResNet20\n",
    "from Train import model_training"
   ]
  },
  {
   "cell_type": "code",
   "execution_count": null,
   "id": "53ce48df",
   "metadata": {},
   "outputs": [],
   "source": [
    "# Hyper parameters\n",
    "epoch_losses = []\n",
    "train_loss_list = []\n",
    "epochs = 50\n",
    "lr = 0.001\n",
    "batch_size = 64\n",
    "\n",
    "# Model device assignment\n",
    "device = torch.device('cuda' if torch.cuda.is_available() else 'cpu')\n",
    "model = ResNet20().to(device)"
   ]
  },
  {
   "cell_type": "code",
   "execution_count": null,
   "id": "f61b73ee",
   "metadata": {},
   "outputs": [],
   "source": [
    "# Define transformation\n",
    "transform = transforms.Compose(\n",
    "    [transforms.ToTensor(),\n",
    "     transforms.Normalize((0.4914, 0.4822, 0.4465),\n",
    "                            (0.2023, 0.1994, 0.2010))])\n",
    "\n",
    "# Load the training dataset\n",
    "trainset = torchvision.datasets.CIFAR10(root='./data', train=True,\n",
    "                                        download=True, transform=transform)\n",
    "trainloader = torch.utils.data.DataLoader(trainset, batch_size=batch_size,\n",
    "                                          shuffle=True, num_workers=2)\n",
    "\n",
    "# Load the test dataset\n",
    "testset = torchvision.datasets.CIFAR10(root='./data', train=False,\n",
    "                                       download=True, transform=transform)\n",
    "testloader = torch.utils.data.DataLoader(testset, batch_size=batch_size,\n",
    "                                         shuffle=False, num_workers=2)\n",
    "\n",
    "# Define the class names for reference\n",
    "classes = ('plane', 'car', 'bird', 'cat', 'deer', 'dog', 'frog', 'horse', 'ship', 'truck')"
   ]
  },
  {
   "cell_type": "code",
   "execution_count": null,
   "id": "898c59d2",
   "metadata": {},
   "outputs": [
    {
     "name": "stdout",
     "output_type": "stream",
     "text": [
      "Start Training for 50 epochs\n",
      "Epoch [1/50], Average Loss: 1.8471\n",
      "Epoch [2/50], Average Loss: 1.7601\n",
      "Epoch [3/50], Average Loss: 1.7113\n",
      "Epoch [4/50], Average Loss: 1.6712\n",
      "Epoch [5/50], Average Loss: 1.6480\n",
      "Epoch [6/50], Average Loss: 1.6179\n"
     ]
    }
   ],
   "source": [
    "# Testing model on Cifar10\n",
    "testing_module = model_training(model, lr, trainloader, epochs)\n",
    "train_loss = testing_module.forward(device)"
   ]
  },
  {
   "cell_type": "code",
   "execution_count": null,
   "id": "1bf24c47",
   "metadata": {},
   "outputs": [],
   "source": [
    "# Visualization of training results \n",
    "plt.plot(train_loss, linewidth=2, c='r')\n",
    "plt.xlabel(\"Epochs\")\n",
    "plt.ylabel(\"Training Loss\")\n",
    "plt.title(\"Training Loss of ResNet20 Model\")\n",
    "plt.grid(True)\n",
    "\n",
    "plt.tight_layout()\n",
    "plt.show()"
   ]
  },
  {
   "cell_type": "code",
   "execution_count": null,
   "id": "477ffc54",
   "metadata": {},
   "outputs": [],
   "source": [
    "with torch.no_grad():\n",
    "    number_correct = 0\n",
    "    samples = 0\n",
    "    for images, labels in testloader:\n",
    "        images = images.to(device)\n",
    "        labels = labels.to(device)\n",
    "        outputs = model(images)\n",
    "\n",
    "        _, prediction = torch.max(outputs, 1)\n",
    "        samples += labels.size(0)\n",
    "        number_correct += (prediction == labels).sum().item()\n",
    "\n",
    "accuracy = (number_correct / samples) * 100.0"
   ]
  }
 ],
 "metadata": {
  "kernelspec": {
   "display_name": "Python 3",
   "language": "python",
   "name": "python3"
  },
  "language_info": {
   "codemirror_mode": {
    "name": "ipython",
    "version": 3
   },
   "file_extension": ".py",
   "mimetype": "text/x-python",
   "name": "python",
   "nbconvert_exporter": "python",
   "pygments_lexer": "ipython3",
   "version": "3.12.1"
  }
 },
 "nbformat": 4,
 "nbformat_minor": 5
}
